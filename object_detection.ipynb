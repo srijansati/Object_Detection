{
 "cells": [
  {
   "cell_type": "code",
   "execution_count": 3,
   "id": "c9dad697-3d65-4ec9-b1ef-2adbc3471052",
   "metadata": {},
   "outputs": [
    {
     "name": "stdout",
     "output_type": "stream",
     "text": [
      "F:\\tensorflow\\scripts\n"
     ]
    },
    {
     "name": "stderr",
     "output_type": "stream",
     "text": [
      "C:\\Users\\srija\\anaconda3\\envs\\tf\\lib\\site-packages\\IPython\\core\\magics\\osm.py:417: UserWarning: using dhist requires you to install the `pickleshare` library.\n",
      "  self.shell.db['dhist'] = compress_dhist(dhist)[-100:]\n"
     ]
    }
   ],
   "source": [
    "cd scripts"
   ]
  },
  {
   "cell_type": "code",
   "execution_count": 7,
   "id": "126c46f4-0e61-4579-b03e-8674740ffe68",
   "metadata": {},
   "outputs": [
    {
     "name": "stdout",
     "output_type": "stream",
     "text": [
      "Successfully created the TFRecord file: F:\\tensorflow\\training_demo/annotations/train.record\n",
      "Successfully created the TFRecord file: F:\\tensorflow\\training_demo/annotations/test.record\n"
     ]
    }
   ],
   "source": [
    "# Create train data:\n",
    "!python generate_tfrecord.py -x F:\\tensorflow\\training_demo\\images\\test -l F:\\tensorflow\\training_demo/annotations/label_map.pbtxt -o F:\\tensorflow\\training_demo/annotations/train.record\n",
    "\n",
    "# Create test data:\n",
    "!python generate_tfrecord.py -x F:\\tensorflow\\training_demo\\images\\train -l F:\\tensorflow\\training_demo/annotations/label_map.pbtxt -o F:\\tensorflow\\training_demo/annotations/test.record"
   ]
  },
  {
   "cell_type": "code",
   "execution_count": 1,
   "id": "e92a8a65-282b-4a82-b071-a83ff999d147",
   "metadata": {},
   "outputs": [
    {
     "name": "stdout",
     "output_type": "stream",
     "text": [
      "F:\\tensorflow\\training_demo\n"
     ]
    },
    {
     "name": "stderr",
     "output_type": "stream",
     "text": [
      "C:\\Users\\srija\\anaconda3\\envs\\tf\\lib\\site-packages\\IPython\\core\\magics\\osm.py:417: UserWarning: using dhist requires you to install the `pickleshare` library.\n",
      "  self.shell.db['dhist'] = compress_dhist(dhist)[-100:]\n"
     ]
    }
   ],
   "source": [
    "cd F:\\tensorflow\\training_demo"
   ]
  },
  {
   "cell_type": "code",
   "execution_count": null,
   "id": "a67826a7-9990-4631-9d51-3adcf250b5e7",
   "metadata": {},
   "outputs": [],
   "source": [
    "!python model_main_tf2.py --model_dir=F:/tensorflow/training_demo/models/my_ssd_resnet101_v1_fpn --pipeline_config_path=F:/tensorflow/training_demo/models/my_ssd_resnet101_v1_fpn/pipeline.config"
   ]
  },
  {
   "cell_type": "code",
   "execution_count": null,
   "id": "fbdff95f-7745-4cf1-881a-32095e8ba2e4",
   "metadata": {},
   "outputs": [],
   "source": [
    "!python .\\exporter_main_v2.py --input_type image_tensor --pipeline_config_path F:/tensorflow/training_demo/models/my_ssd_resnet101_v1_fpn/pipeline.config --trained_checkpoint_dir F:/tensorflow/training_demo/models/my_ssd_resnet101_v1_fpn --output_directory F:/tensorflow/training_demo/exported_models/my_model"
   ]
  },
  {
   "cell_type": "code",
   "execution_count": null,
   "id": "71dd2a9b-ed3f-4243-bf58-139567d52516",
   "metadata": {},
   "outputs": [
    {
     "name": "stdout",
     "output_type": "stream",
     "text": [
      "Loading model...Done! Took 12.070135831832886 seconds\n",
      "Running inference for F:\\tensorflow\\training_demo\\images\\test\\DJI_0312_JPG.rf.08f23849d327cc10139c06bae49506f4.jpg... Done\n"
     ]
    }
   ],
   "source": [
    "\"\"\"\n",
    "Object Detection (On Image) From TF2 Saved Model\n",
    "=====================================\n",
    "\"\"\"\n",
    "\n",
    "import os\n",
    "os.environ['TF_CPP_MIN_LOG_LEVEL'] = '2'    # Suppress TensorFlow logging (1)\n",
    "import pathlib\n",
    "import tensorflow as tf\n",
    "import cv2\n",
    "import argparse\n",
    "\n",
    "# Enable GPU dynamic memory allocation\n",
    "gpus = tf.config.experimental.list_physical_devices('GPU')\n",
    "for gpu in gpus:\n",
    "    tf.config.experimental.set_memory_growth(gpu, True)\n",
    "\n",
    "# PROVIDE PATH TO IMAGE DIRECTORY\n",
    "IMAGE_PATHS = r\"F:\\tensorflow\\training_demo\\images\\test\\DJI_0312_JPG.rf.08f23849d327cc10139c06bae49506f4.jpg\"\n",
    "IMAGE_PATHS1 = r\"F:\\tensorflow\\training_demo\\images\\test\\DJI_0312_JPG.rf.544df0e3a7b2778052c9110942b032a7.jpg\"\n",
    "IMAGE_PATHS2 = r\"F:\\tensorflow\\training_demo\\images\\test\\DJI_0316_JPG.rf.8d0013f3dfc42181047ac5be6a3eba0e.jpg\"\n",
    "IMAGE_PATHS3 = r\"F:\\tensorflow\\training_demo\\images\\valid\\DJI_0259_JPG.rf.df5eb78cf9d9c1b930a87f55c01df623.jpg\"\n",
    "IMAGE_PATHS4 = r\"F:\\tensorflow\\training_demo\\images\\valid\\DJI_0272_JPG.rf.44bf79d219441da434dd3a60f1e56d1c.jpg\"\n",
    "\n",
    "# PROVIDE PATH TO MODEL DIRECTORY\n",
    "PATH_TO_MODEL_DIR = r'F:\\tensorflow\\training_demo\\exported_models\\my_model'\n",
    "\n",
    "# PROVIDE PATH TO LABEL MAP\n",
    "PATH_TO_LABELS = r\"F:\\tensorflow\\training_demo\\annotations\\label_map.pbtxt\"\n",
    "\n",
    "# PROVIDE THE MINIMUM CONFIDENCE THRESHOLD\n",
    "MIN_CONF_THRESH = float(0.60)\n",
    "\n",
    "# LOAD THE MODEL\n",
    "\n",
    "import time\n",
    "from object_detection.utils import label_map_util\n",
    "from object_detection.utils import visualization_utils as viz_utils\n",
    "\n",
    "PATH_TO_SAVED_MODEL = PATH_TO_MODEL_DIR + \"/saved_model\"\n",
    "\n",
    "print('Loading model...', end='')\n",
    "start_time = time.time()\n",
    "\n",
    "# LOAD SAVED MODEL AND BUILD DETECTION FUNCTION\n",
    "detect_fn = tf.saved_model.load(PATH_TO_SAVED_MODEL)\n",
    "\n",
    "end_time = time.time()\n",
    "elapsed_time = end_time - start_time\n",
    "print('Done! Took {} seconds'.format(elapsed_time))\n",
    "\n",
    "# LOAD LABEL MAP DATA FOR PLOTTING\n",
    "\n",
    "category_index = label_map_util.create_category_index_from_labelmap(PATH_TO_LABELS,\n",
    "                                                                    use_display_name=True)\n",
    "\n",
    "import numpy as np\n",
    "from PIL import Image\n",
    "import matplotlib.pyplot as plt\n",
    "import warnings\n",
    "warnings.filterwarnings('ignore')   # Suppress Matplotlib warnings\n",
    "\n",
    "def load_image_into_numpy_array(path):\n",
    "    \"\"\"Load an image from file into a numpy array.\n",
    "    Puts image into numpy array to feed into tensorflow graph.\n",
    "    Note that by convention we put it into a numpy array with shape\n",
    "    (height, width, channels), where channels=3 for RGB.\n",
    "    Args:\n",
    "      path: the file path to the image\n",
    "    Returns:\n",
    "      uint8 numpy array with shape (img_height, img_width, 3)\n",
    "    \"\"\"\n",
    "    return np.array(Image.open(path))\n",
    "\n",
    "\n",
    "\n",
    "\n",
    "print('Running inference for {}... '.format(IMAGE_PATHS), end='')\n",
    "\n",
    "image = cv2.imread(IMAGE_PATHS1)\n",
    "image_rgb = cv2.cvtColor(image, cv2.COLOR_BGR2RGB)\n",
    "image_expanded = np.expand_dims(image_rgb, axis=0)\n",
    "\n",
    "# The input needs to be a tensor, convert it using `tf.convert_to_tensor`.\n",
    "input_tensor = tf.convert_to_tensor(image)\n",
    "# The model expects a batch of images, so add an axis with `tf.newaxis`.\n",
    "input_tensor = input_tensor[tf.newaxis, ...]\n",
    "\n",
    "# input_tensor = np.expand_dims(image_np, 0)\n",
    "detections = detect_fn(input_tensor)\n",
    "\n",
    "# All outputs are batches tensors.\n",
    "# Convert to numpy arrays, and take index [0] to remove the batch dimension.\n",
    "# We're only interested in the first num_detections.\n",
    "num_detections = int(detections.pop('num_detections'))\n",
    "detections = {key: value[0, :num_detections].numpy()\n",
    "               for key, value in detections.items()}\n",
    "detections['num_detections'] = num_detections\n",
    "\n",
    "# detection_classes should be ints.\n",
    "detections['detection_classes'] = detections['detection_classes'].astype(np.int64)\n",
    "\n",
    "image_with_detections = image.copy()\n",
    "\n",
    "# SET MIN_SCORE_THRESH BASED ON YOU MINIMUM THRESHOLD FOR DETECTIONS\n",
    "viz_utils.visualize_boxes_and_labels_on_image_array(\n",
    "      image_with_detections,\n",
    "      detections['detection_boxes'],\n",
    "      detections['detection_classes'],\n",
    "      detections['detection_scores'],\n",
    "      category_index,\n",
    "      use_normalized_coordinates=True,\n",
    "      max_boxes_to_draw=200,\n",
    "      min_score_thresh=0.5,\n",
    "      agnostic_mode=False)\n",
    "\n",
    "print('Done')\n",
    "# DISPLAYS OUTPUT IMAGE\n",
    "cv2.imshow('image', image_with_detections)\n",
    "# CLOSES WINDOW ONCE KEY IS PRESSED\n",
    "cv2.waitKey(0)\n",
    "cv2.destroyAllWindows()"
   ]
  },
  {
   "cell_type": "code",
   "execution_count": null,
   "id": "4df6783e-fb73-4a8a-8aa5-49fe0b0ae326",
   "metadata": {},
   "outputs": [],
   "source": [
    "python model_main_tf2.py --model_dir=F:/tensorflow/training_demo/models/my_ssd_resnet101_v1_fpn --pipeline_config_path=F:/tensorflow/training_demo/models/my_ssd_resnet101_v1_fpn/pipeline.config --checkpoint_dir=F:/tensorflow/training_demo/models/my_ssd_resnet101_v1_fpn"
   ]
  }
 ],
 "metadata": {
  "kernelspec": {
   "display_name": "tf",
   "language": "python",
   "name": "tf"
  },
  "language_info": {
   "codemirror_mode": {
    "name": "ipython",
    "version": 3
   },
   "file_extension": ".py",
   "mimetype": "text/x-python",
   "name": "python",
   "nbconvert_exporter": "python",
   "pygments_lexer": "ipython3",
   "version": "3.9.20"
  }
 },
 "nbformat": 4,
 "nbformat_minor": 5
}
